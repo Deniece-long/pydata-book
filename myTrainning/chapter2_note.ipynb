{
 "cells": [
  {
   "cell_type": "code",
   "execution_count": 3,
   "id": "97d154af",
   "metadata": {},
   "outputs": [],
   "source": [
    "import numpy as np\n",
    "\n",
    "a = np.random.randn(100,100)"
   ]
  },
  {
   "cell_type": "code",
   "execution_count": 2,
   "id": "a11e87d7",
   "metadata": {},
   "outputs": [
    {
     "name": "stdout",
     "output_type": "stream",
     "text": [
      "The slowest run took 6.35 times longer than the fastest. This could mean that an intermediate result is being cached.\n",
      "213 µs ± 128 µs per loop (mean ± std. dev. of 7 runs, 1000 loops each)\n"
     ]
    }
   ],
   "source": [
    "%timeit np.dot(a,a)  # 百分号称为魔术贴"
   ]
  },
  {
   "cell_type": "code",
   "execution_count": 3,
   "id": "fd9b4141",
   "metadata": {},
   "outputs": [
    {
     "data": {
      "text/plain": [
       "'/Users/deniece/Documents/github/pydata-book/myTrainning'"
      ]
     },
     "execution_count": 3,
     "metadata": {},
     "output_type": "execute_result"
    }
   ],
   "source": [
    "%pwd "
   ]
  },
  {
   "cell_type": "code",
   "execution_count": 4,
   "id": "4dffdf47",
   "metadata": {},
   "outputs": [
    {
     "name": "stdout",
     "output_type": "stream",
     "text": [
      "\n",
      "Automagic is OFF, % prefix IS needed for line magics.\n"
     ]
    }
   ],
   "source": [
    "%automagic  # Ipython魔术贴命令，aut"
   ]
  },
  {
   "cell_type": "code",
   "execution_count": 5,
   "id": "97b82617",
   "metadata": {},
   "outputs": [],
   "source": [
    "%magic # 显示所有可用魔术命令的详细文档"
   ]
  },
  {
   "cell_type": "code",
   "execution_count": 5,
   "id": "9a235d89",
   "metadata": {},
   "outputs": [],
   "source": [
    "%matplotlib inline  # mac OSX 使用"
   ]
  },
  {
   "cell_type": "code",
   "execution_count": 6,
   "id": "35656b00",
   "metadata": {},
   "outputs": [
    {
     "data": {
      "text/plain": [
       "[<matplotlib.lines.Line2D at 0x127aaed60>]"
      ]
     },
     "execution_count": 6,
     "metadata": {},
     "output_type": "execute_result"
    },
    {
     "data": {
      "image/png": "[encoded data removed]",
      "text/plain": [
       "<Figure size 432x288 with 1 Axes>"
      ]
     },
     "metadata": {
      "needs_background": "light"
     },
     "output_type": "display_data"
    }
   ],
   "source": [
    "import matplotlib.pyplot as plt\n",
    "import numpy as np\n",
    "plt.plot(np.random.rand(50).cumsum())"
   ]
  },
  {
   "cell_type": "code",
   "execution_count": 7,
   "id": "46deee10",
   "metadata": {},
   "outputs": [],
   "source": [
    "a = 'foo'  # 下一行输入a.按<Tab>回出现a的属性内容"
   ]
  },
  {
   "cell_type": "code",
   "execution_count": 8,
   "id": "36ca5ecc",
   "metadata": {},
   "outputs": [
    {
     "data": {
      "text/plain": [
       "'4.56Argentine Pesso are worth US$1'"
      ]
     },
     "execution_count": 8,
     "metadata": {},
     "output_type": "execute_result"
    }
   ],
   "source": [
    "#分别将参数格式化为2位小数的浮点数，字符串以及格式化为整数\n",
    "template = '{0:.2f}{1:s} are worth US${2:d}' \n",
    "template.format(4.5560,'Argentine Pesso',1)"
   ]
  },
  {
   "cell_type": "code",
   "execution_count": 9,
   "id": "4783b070",
   "metadata": {},
   "outputs": [
    {
     "name": "stdout",
     "output_type": "stream",
     "text": [
      "29\n",
      "30\n"
     ]
    }
   ],
   "source": [
    "from datetime import datetime,date,time\n",
    "dt = datetime(2011,10,29,20,30,21) # 年，月，天，时，分，秒\n",
    "print(dt.day)\n",
    "print(dt.minute)"
   ]
  },
  {
   "cell_type": "code",
   "execution_count": 10,
   "id": "8753eb11",
   "metadata": {},
   "outputs": [
    {
     "data": {
      "text/plain": [
       "datetime.time(20, 30, 21)"
      ]
     },
     "execution_count": 10,
     "metadata": {},
     "output_type": "execute_result"
    }
   ],
   "source": [
    "dt.time()"
   ]
  },
  {
   "cell_type": "code",
   "execution_count": 12,
   "id": "caaf8061",
   "metadata": {},
   "outputs": [
    {
     "data": {
      "text/plain": [
       "'10/ 29 /2011 20:30'"
      ]
     },
     "execution_count": 12,
     "metadata": {},
     "output_type": "execute_result"
    }
   ],
   "source": [
    "dt.strftime('%m/ %d /%Y %H:%M') # 转换为字符串"
   ]
  },
  {
   "cell_type": "code",
   "execution_count": 13,
   "id": "17e21155",
   "metadata": {},
   "outputs": [
    {
     "data": {
      "text/plain": [
       "[5, 4, 3, 2, 1]"
      ]
     },
     "execution_count": 13,
     "metadata": {},
     "output_type": "execute_result"
    }
   ],
   "source": [
    "list(range(5,0,-1))  # 创建列表"
   ]
  },
  {
   "cell_type": "code",
   "execution_count": 14,
   "id": "19dab50b",
   "metadata": {},
   "outputs": [
    {
     "data": {
      "text/plain": [
       "'nice'"
      ]
     },
     "execution_count": 14,
     "metadata": {},
     "output_type": "execute_result"
    }
   ],
   "source": [
    "# 三元表达式\n",
    "x = 6\n",
    "'nice' if x >5 else 'not good'"
   ]
  },
  {
   "cell_type": "code",
   "execution_count": null,
   "id": "5ef6b80a",
   "metadata": {},
   "outputs": [],
   "source": []
  }
 ],
 "metadata": {
  "kernelspec": {
   "display_name": "mytf38",
   "language": "python",
   "name": "mytf38"
  },
  "language_info": {
   "codemirror_mode": {
    "name": "ipython",
    "version": 3
   },
   "file_extension": ".py",
   "mimetype": "text/x-python",
   "name": "python",
   "nbconvert_exporter": "python",
   "pygments_lexer": "ipython3",
   "version": "3.8.11"
  }
 },
 "nbformat": 4,
 "nbformat_minor": 5
}
